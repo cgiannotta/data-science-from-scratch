{
 "cells": [
  {
   "cell_type": "code",
   "execution_count": 13,
   "metadata": {},
   "outputs": [],
   "source": [
    "import pandas as pd\n",
    "import matplotlib.pyplot as plt\n",
    "import numpy as np"
   ]
  },
  {
   "attachments": {},
   "cell_type": "markdown",
   "metadata": {},
   "source": [
    "### Chapter 1: Introduction"
   ]
  },
  {
   "cell_type": "code",
   "execution_count": 4,
   "metadata": {},
   "outputs": [],
   "source": [
    "users = [\n",
    "    {\"id\": 0, \"name\":\"Hero\"},\n",
    "    {\"id\": 1, \"name\":\"Dunn\"},\n",
    "    {\"id\": 2, \"name\":\"Sue\"},\n",
    "    {\"id\": 3, \"name\":\"Chi\"},\n",
    "    {\"id\": 4, \"name\":\"Thor\"},\n",
    "    {\"id\": 5, \"name\":\"Clive\"},\n",
    "    {\"id\": 6, \"name\":\"Hicks\"},\n",
    "    {\"id\": 7, \"name\":\"Devin\"},\n",
    "    {\"id\": 8, \"name\":\"Kate\"},\n",
    "    {\"id\": 9, \"name\":\"Klein\"}       \n",
    "    ]    "
   ]
  },
  {
   "cell_type": "code",
   "execution_count": 5,
   "metadata": {},
   "outputs": [],
   "source": [
    "friendship_pairs = [(0, 1), (0, 2), (1, 2), (1, 3), (2, 3), (3, 4), \n",
    "                    (4, 5), (5, 6), (5, 7), (6, 8), (7, 8), (8, 9)]"
   ]
  },
  {
   "cell_type": "code",
   "execution_count": 7,
   "metadata": {},
   "outputs": [
    {
     "data": {
      "text/plain": [
       "{0: [1, 2],\n",
       " 1: [0, 2, 3],\n",
       " 2: [0, 1, 3],\n",
       " 3: [1, 2, 4],\n",
       " 4: [3, 5],\n",
       " 5: [4, 6, 7],\n",
       " 6: [8, 5],\n",
       " 7: [8, 5],\n",
       " 8: [9, 6, 7],\n",
       " 9: [8]}"
      ]
     },
     "execution_count": 7,
     "metadata": {},
     "output_type": "execute_result"
    }
   ],
   "source": [
    "friendships = {d[\"id\"]:[] for d in users}\n",
    "for pair in friendship_pairs:\n",
    "    friendships[pair[0]].append(pair[1])\n",
    "    friendships[pair[1]].append(pair[0])\n",
    "friendships = {key:list(set(val)) for key, val in friendships.items()}\n",
    "friendships"
   ]
  },
  {
   "cell_type": "code",
   "execution_count": 24,
   "metadata": {},
   "outputs": [
    {
     "data": {
      "text/plain": [
       "{0: [3],\n",
       " 1: [4],\n",
       " 2: [4],\n",
       " 3: [0, 5],\n",
       " 4: [1, 2, 6, 7],\n",
       " 5: [8, 3],\n",
       " 6: [9, 4, 7],\n",
       " 7: [9, 4, 6],\n",
       " 8: [5],\n",
       " 9: [6, 7]}"
      ]
     },
     "execution_count": 24,
     "metadata": {},
     "output_type": "execute_result"
    }
   ],
   "source": [
    "# get list of friends of friends for each user\n",
    "def get_friends_of_friends(friendship_dict: dict) -> dict:\n",
    "    \"\"\" Returns new dict with list of friends of friends for each user from original dict \"\"\"\n",
    "    friends_of_friends = {user:[] for user in friendship_dict.keys()}\n",
    "    for user in friendship_dict:\n",
    "        for fof in friendship_dict[user]:\n",
    "            friends_of_friends[user].append(friendship_dict[fof])\n",
    "    friends_of_friends = {key:list(set([fof for sublist in val for fof in sublist if fof != key and fof not in friendship_dict[key]])) for key, val in friends_of_friends.items()}\n",
    "    return friends_of_friends\n",
    "\n",
    "get_friends_of_friends(friendships)"
   ]
  },
  {
   "cell_type": "code",
   "execution_count": 15,
   "metadata": {},
   "outputs": [
    {
     "data": {
      "text/plain": [
       "2.4"
      ]
     },
     "execution_count": 15,
     "metadata": {},
     "output_type": "execute_result"
    }
   ],
   "source": [
    "# what is the average number of connections?\n",
    "np.mean([len(l) for l in friendships.values()])"
   ]
  },
  {
   "cell_type": "code",
   "execution_count": 17,
   "metadata": {},
   "outputs": [
    {
     "data": {
      "text/plain": [
       "8"
      ]
     },
     "execution_count": 17,
     "metadata": {},
     "output_type": "execute_result"
    }
   ],
   "source": [
    "# who has the most friends? (degree centrality)\n",
    "sorted(list(friendships.items()), key=lambda x: len(x[1]))[-1][0]"
   ]
  },
  {
   "attachments": {},
   "cell_type": "markdown",
   "metadata": {},
   "source": [
    "### Chapter 2: Crash Course in Python\n",
    "\n"
   ]
  },
  {
   "cell_type": "markdown",
   "metadata": {},
   "source": [
    "### Chapter 3: Visualizing Data)"
   ]
  },
  {
   "cell_type": "markdown",
   "metadata": {},
   "source": [
    "### Chapter 4: Linear Algebra"
   ]
  },
  {
   "attachments": {},
   "cell_type": "markdown",
   "metadata": {},
   "source": [
    "### Chapter 5: Statistics"
   ]
  },
  {
   "cell_type": "code",
   "execution_count": 25,
   "metadata": {},
   "outputs": [
    {
     "name": "stdout",
     "output_type": "stream",
     "text": [
      "variance for only 0 and 100: 3000.0\n",
      "variance for lots of nums: 1437.5\n"
     ]
    }
   ],
   "source": [
    "def get_deviances(x_vals: list) -> list:\n",
    "    mean = np.mean(x_vals)\n",
    "    devs = [x - mean for x in x_vals]\n",
    "    return devs\n",
    "\n",
    "def calc_variance(x_vals: list) -> list:\n",
    "    n = len(x_vals)\n",
    "    devs = get_deviances(x_vals)\n",
    "    var = np.sum([dev ** 2 for dev in devs]) / (n - 1)\n",
    "    return var\n",
    "\n",
    "two_nums = [0, 0, 100, 100, 100, 0]\n",
    "many_nums = [0, 25, 100, 50, 0, 50]\n",
    "print(f\"variance for only 0 and 100: {calc_variance(two_nums)}\")\n",
    "print(f\"variance for lots of nums: {calc_variance(many_nums)}\")"
   ]
  },
  {
   "cell_type": "code",
   "execution_count": null,
   "metadata": {},
   "outputs": [],
   "source": []
  }
 ],
 "metadata": {
  "kernelspec": {
   "display_name": "base",
   "language": "python",
   "name": "python3"
  },
  "language_info": {
   "codemirror_mode": {
    "name": "ipython",
    "version": 3
   },
   "file_extension": ".py",
   "mimetype": "text/x-python",
   "name": "python",
   "nbconvert_exporter": "python",
   "pygments_lexer": "ipython3",
   "version": "3.9.13"
  },
  "orig_nbformat": 4
 },
 "nbformat": 4,
 "nbformat_minor": 2
}
